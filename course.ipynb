{
 "cells": [
  {
   "cell_type": "markdown",
   "metadata": {},
   "source": [
    "# Reinforcement Learning Course\n",
    "\n",
    "### Limitations:\n",
    "* For simple models, RL can be overkill and a waste of time; models with hyperparameter tuning are already powerful\n",
    "* Assumed enviroment is Markovian; future states are based on current enviroment, cant account for random things happening when its deployed\n",
    "* Can take very long time to train\n",
    "* Can sometimes be not stable; model might start exploiting enviroment, and cap the rewards before truly fully exploring; mitigated with hyperparameters "
   ]
  }
 ],
 "metadata": {
  "kernelspec": {
   "display_name": "Python 3",
   "language": "python",
   "name": "python3"
  },
  "language_info": {
   "codemirror_mode": {
    "name": "ipython",
    "version": 3
   },
   "file_extension": ".py",
   "mimetype": "text/x-python",
   "name": "python",
   "nbconvert_exporter": "python",
   "pygments_lexer": "ipython3",
   "version": "3.12.8"
  }
 },
 "nbformat": 4,
 "nbformat_minor": 2
}
